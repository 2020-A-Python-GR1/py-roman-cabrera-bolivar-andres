{
 "cells": [
  {
   "cell_type": "markdown",
   "metadata": {},
   "source": [
    "# Titulo 1\n",
    "###### Titulo 6\n",
    "\n",
    "![alt text](https://github.com/adam-p/markdown-here/raw/master/src/common/images/icon48.png \"Logo Title Text 1\")"
   ]
  },
  {
   "cell_type": "code",
   "execution_count": 1,
   "metadata": {},
   "outputs": [
    {
     "name": "stdout",
     "output_type": "stream",
     "text": [
      "Hola mundo\n"
     ]
    }
   ],
   "source": [
    "print(\"Hola mundo\")"
   ]
  },
  {
   "cell_type": "code",
   "execution_count": 10,
   "metadata": {},
   "outputs": [
    {
     "name": "stdout",
     "output_type": "stream",
     "text": [
      "<class 'int'>\n",
      "<class 'float'>\n",
      "<class 'str'>\n",
      "<class 'str'>\n",
      "<class 'str'>\n",
      "<class 'bool'>\n",
      "<class 'bool'>\n",
      "<class 'NoneType'>\n"
     ]
    }
   ],
   "source": [
    "# No tipado\n",
    "# Variables Primitivas\n",
    "\n",
    "entero = 5\n",
    "decimal = 1.5\n",
    "nombre = \"Bolivar\"\n",
    "segundo_nombre = \"Andres\" #No usar camel case -> segundoNombre\n",
    "apellido = 'Roman'\n",
    "casado = False\n",
    "profesor = True\n",
    "hijos = None #Analogo a NULL\n",
    "\n",
    "print(type(entero)) \n",
    "print(type(decimal))\n",
    "print(type(nombre))\n",
    "print(type(segundo_nombre))\n",
    "print(type(apellido))\n",
    "print(type(casado))\n",
    "print(type(profesor))\n",
    "print(type(hijos))\n"
   ]
  },
  {
   "cell_type": "code",
   "execution_count": 5,
   "metadata": {},
   "outputs": [
    {
     "name": "stdout",
     "output_type": "stream",
     "text": [
      "\n",
      "Aquí se puede escribir una cadena de texto larga\n",
      "\n"
     ]
    }
   ],
   "source": [
    "cadena_de_texto = \"\"\"\n",
    "Aquí se puede escribir una cadena de texto larga\n",
    "\"\"\"\n",
    "print(cadena_de_texto)"
   ]
  },
  {
   "cell_type": "code",
   "execution_count": 11,
   "metadata": {},
   "outputs": [
    {
     "name": "stdout",
     "output_type": "stream",
     "text": [
      "5\n",
      "Bolivar\n"
     ]
    }
   ],
   "source": [
    "print(entero)\n",
    "entero = decimal\n",
    "entero = hijos\n",
    "entero = casado\n",
    "entero = nombre\n",
    "print(entero)"
   ]
  },
  {
   "cell_type": "code",
   "execution_count": 13,
   "metadata": {},
   "outputs": [
    {
     "name": "stdout",
     "output_type": "stream",
     "text": [
      "Truty\n",
      "Falsy\n"
     ]
    }
   ],
   "source": [
    "#Condiciones\n",
    "#Truty - Falsy\n",
    "\n",
    "tuplas = (1,2,3) #Arreglos que no se pueden modificar\n",
    "listas = [4,5,6] #Arreglos que se pueden modificar\n",
    "diccionario = {\n",
    "    \"nombre\": \"Bolivar\"\n",
    "}\n",
    "if('Bolivar'):\n",
    "    print('Truty')\n",
    "else:\n",
    "    print('Falsy')\n",
    "    \n",
    "if(''):\n",
    "    print('Truty')\n",
    "else:\n",
    "    print('Falsy')"
   ]
  },
  {
   "cell_type": "code",
   "execution_count": null,
   "metadata": {},
   "outputs": [],
   "source": []
  }
 ],
 "metadata": {
  "kernelspec": {
   "display_name": "Python 3",
   "language": "python",
   "name": "python3"
  },
  "language_info": {
   "codemirror_mode": {
    "name": "ipython",
    "version": 3
   },
   "file_extension": ".py",
   "mimetype": "text/x-python",
   "name": "python",
   "nbconvert_exporter": "python",
   "pygments_lexer": "ipython3",
   "version": "3.7.6"
  }
 },
 "nbformat": 4,
 "nbformat_minor": 4
}
