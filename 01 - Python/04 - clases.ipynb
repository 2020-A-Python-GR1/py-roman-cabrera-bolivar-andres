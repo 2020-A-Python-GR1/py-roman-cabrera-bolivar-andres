{
 "cells": [
  {
   "cell_type": "code",
   "execution_count": 2,
   "metadata": {},
   "outputs": [
    {
     "data": {
      "text/plain": [
       "4"
      ]
     },
     "execution_count": 2,
     "metadata": {},
     "output_type": "execute_result"
    }
   ],
   "source": [
    "#funciones lambda\n",
    "def elevar_al_cuadrado(numero):\n",
    "    return numero * numero\n",
    "\n",
    "elevar_al_cuadrado(2)"
   ]
  },
  {
   "cell_type": "code",
   "execution_count": 3,
   "metadata": {},
   "outputs": [],
   "source": [
    "al_cuadrado = lambda x : x * x"
   ]
  },
  {
   "cell_type": "code",
   "execution_count": 4,
   "metadata": {},
   "outputs": [],
   "source": [
    "sumar_dos_numeros = lambda x,y : x + y"
   ]
  },
  {
   "cell_type": "code",
   "execution_count": 5,
   "metadata": {},
   "outputs": [
    {
     "data": {
      "text/plain": [
       "9"
      ]
     },
     "execution_count": 5,
     "metadata": {},
     "output_type": "execute_result"
    }
   ],
   "source": [
    "sumar_dos_numeros(4,5)"
   ]
  },
  {
   "cell_type": "code",
   "execution_count": 6,
   "metadata": {},
   "outputs": [],
   "source": [
    "#clases\n",
    "class Nada: \n",
    "    pass\n",
    "\n",
    "una_nada = Nada()"
   ]
  },
  {
   "cell_type": "code",
   "execution_count": 7,
   "metadata": {},
   "outputs": [
    {
     "name": "stdout",
     "output_type": "stream",
     "text": [
      "<__main__.Nada object at 0x00000235B7790B08>\n",
      "<class '__main__.Nada'>\n"
     ]
    }
   ],
   "source": [
    "print(una_nada)\n",
    "print(type(una_nada))"
   ]
  },
  {
   "cell_type": "code",
   "execution_count": 16,
   "metadata": {},
   "outputs": [
    {
     "name": "stdout",
     "output_type": "stream",
     "text": [
      "Empezo el constructor\n",
      "Azul\n",
      "140.39999999999998\n",
      "Color: Azul \n",
      "Numero chasis: 120\n"
     ]
    }
   ],
   "source": [
    "class Auto:\n",
    "    color = None #public\n",
    "    __numero_chasis = 1 #private __\n",
    "    \n",
    "    def __init__(self, color):#self = this\n",
    "        print(\"Empezo el constructor\")\n",
    "        self.color = color\n",
    "            \n",
    "    def set_chasis(self, num_chasis):\n",
    "        self.__numero_chasis = num_chasis\n",
    "        return self.__calc_chasis()\n",
    "    \n",
    "    def __calc_chasis(self):\n",
    "        return self.__numero_chasis *1.17\n",
    "    \n",
    "    def __str__(self):\n",
    "        parte_uno = f\"Color: {self.color} \\n\"\n",
    "        parte_dos = f\"Numero chasis: {self.__numero_chasis}\"\n",
    "        return parte_uno + parte_dos\n",
    "        \n",
    "            \n",
    "nuevo_auto = Auto(\"Azul\")\n",
    "print(nuevo_auto.color)\n",
    "print(nuevo_auto.set_chasis(120))\n",
    "print(nuevo_auto)"
   ]
  },
  {
   "cell_type": "code",
   "execution_count": 17,
   "metadata": {},
   "outputs": [],
   "source": [
    "class BMW(Auto):\n",
    "    def __init__(self, color, chasis):\n",
    "        print(\"Iniciar constructor hijo\")\n",
    "        super().__init__(color)\n",
    "        super().set_chasis(chasis)"
   ]
  },
  {
   "cell_type": "code",
   "execution_count": 18,
   "metadata": {},
   "outputs": [
    {
     "name": "stdout",
     "output_type": "stream",
     "text": [
      "Iniciar constructor hijo\n",
      "Empezo el constructor\n",
      "Color: Blanco \n",
      "Numero chasis: 150\n"
     ]
    }
   ],
   "source": [
    "nuevo_BMW = BMW(\"Blanco\", 150)\n",
    "print(nuevo_BMW)"
   ]
  }
 ],
 "metadata": {
  "kernelspec": {
   "display_name": "Python 3",
   "language": "python",
   "name": "python3"
  },
  "language_info": {
   "codemirror_mode": {
    "name": "ipython",
    "version": 3
   },
   "file_extension": ".py",
   "mimetype": "text/x-python",
   "name": "python",
   "nbconvert_exporter": "python",
   "pygments_lexer": "ipython3",
   "version": "3.7.6"
  }
 },
 "nbformat": 4,
 "nbformat_minor": 4
}
