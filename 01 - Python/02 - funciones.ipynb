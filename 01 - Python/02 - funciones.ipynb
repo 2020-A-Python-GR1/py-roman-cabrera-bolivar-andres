{
 "cells": [
  {
   "cell_type": "code",
   "execution_count": 3,
   "metadata": {},
   "outputs": [
    {
     "name": "stdout",
     "output_type": "stream",
     "text": [
      "hola mundo\n"
     ]
    },
    {
     "data": {
      "text/plain": [
       "NoneType"
      ]
     },
     "execution_count": 3,
     "metadata": {},
     "output_type": "execute_result"
    }
   ],
   "source": [
    "#funciones\n",
    "\n",
    "def hola_mundo():\n",
    "    print('hola mundo')\n",
    "    \n",
    "type(hola_mundo())"
   ]
  },
  {
   "cell_type": "code",
   "execution_count": 5,
   "metadata": {},
   "outputs": [
    {
     "name": "stdout",
     "output_type": "stream",
     "text": [
      "5\n",
      "La suma de 2 y 3 es 5\n"
     ]
    }
   ],
   "source": [
    "def sumar_dos_numeros(num_uno, num_dos): #parametros requeridos\n",
    "    return num_uno + num_dos\n",
    "\n",
    "print(sumar_dos_numeros(2,3))\n",
    "total_suma = sumar_dos_numeros(2,3)\n",
    "print(f\"La suma de 2 y 3 es {total_suma}\")"
   ]
  },
  {
   "cell_type": "code",
   "execution_count": 6,
   "metadata": {},
   "outputs": [
    {
     "name": "stdout",
     "output_type": "stream",
     "text": [
      "Universidad: EPN\n",
      "Universidad: ESPE\n"
     ]
    }
   ],
   "source": [
    "def imprimir_universidad(nombre = \"EPN\"):\n",
    "    print(f\"Universidad: {nombre}\")\n",
    "\n",
    "imprimir_universidad()\n",
    "imprimir_universidad(\"ESPE\")"
   ]
  },
  {
   "cell_type": "code",
   "execution_count": 9,
   "metadata": {},
   "outputs": [
    {
     "name": "stdout",
     "output_type": "stream",
     "text": [
      "Color: Blanco\n",
      "Placa: ABC-1111\n",
      "Horse power: 3000\n",
      "Año: 1989\n"
     ]
    }
   ],
   "source": [
    "#Primero los parametros requeridos, y luego los parametros opcionales\n",
    "\n",
    "def imprimir_carro(color, placa, hp, anio = 1989):\n",
    "    print(f\"Color: {color}\")\n",
    "    print(f\"Placa: {placa}\")\n",
    "    print(f\"Horse power: {hp}\")\n",
    "    print(f\"Año: {anio}\")\n",
    "    \n",
    "\n",
    "imprimir_carro(\"Blanco\", \"ABC-1111\", 3000)"
   ]
  },
  {
   "cell_type": "code",
   "execution_count": 10,
   "metadata": {},
   "outputs": [
    {
     "name": "stdout",
     "output_type": "stream",
     "text": [
      "Color: azul\n",
      "Placa: DFS-5554\n",
      "Horse power: 5000\n",
      "Año: 1998\n"
     ]
    }
   ],
   "source": [
    "#parametros nombrados, siempre usar primero los parámetros no nombrados y luego si poner los parámetos no nombrados\n",
    "imprimir_carro(anio=1998,\n",
    "              placa=\"DFS-5554\",\n",
    "              hp = 5000,\n",
    "              color=\"azul\")"
   ]
  },
  {
   "cell_type": "code",
   "execution_count": 14,
   "metadata": {},
   "outputs": [
    {
     "data": {
      "text/plain": [
       "26"
      ]
     },
     "execution_count": 14,
     "metadata": {},
     "output_type": "execute_result"
    }
   ],
   "source": [
    "def sumar_nums(primer_numero, *numeros):\n",
    "    \n",
    "    suma = primer_numero\n",
    "    for numero in numeros:\n",
    "        suma += numero\n",
    "    return suma\n",
    "\n",
    "    \n",
    "sumar_nums(1,2,3,5,3,5,1,2,1,2,1)"
   ]
  },
  {
   "cell_type": "code",
   "execution_count": 16,
   "metadata": {},
   "outputs": [
    {
     "name": "stdout",
     "output_type": "stream",
     "text": [
      "{'saludo': 'hola', 'mensaje': 'mundo'}\n",
      "<class 'dict'>\n"
     ]
    }
   ],
   "source": [
    "def establecer_config(**kwargs): #Key word argument, parametros nombrados\n",
    "    print(kwargs)\n",
    "    print(type(kwargs))\n",
    "    \n",
    "establecer_config(saludo = \"hola\", mensaje = \"mundo\")\n",
    "\n",
    "#el parametro se envía como kwargs"
   ]
  },
  {
   "cell_type": "code",
   "execution_count": null,
   "metadata": {},
   "outputs": [],
   "source": [
    "#reglas\n",
    "\n",
    "def ejemplo(requerido_uno, \n",
    "           requerido_dos, \n",
    "           opcional_uno=1, \n",
    "           opcional_dos=2, \n",
    "           *infinitos, \n",
    "           **kwargs):\n",
    "    print(\":)\")"
   ]
  }
 ],
 "metadata": {
  "kernelspec": {
   "display_name": "Python 3",
   "language": "python",
   "name": "python3"
  },
  "language_info": {
   "codemirror_mode": {
    "name": "ipython",
    "version": 3
   },
   "file_extension": ".py",
   "mimetype": "text/x-python",
   "name": "python",
   "nbconvert_exporter": "python",
   "pygments_lexer": "ipython3",
   "version": "3.7.6"
  }
 },
 "nbformat": 4,
 "nbformat_minor": 4
}
