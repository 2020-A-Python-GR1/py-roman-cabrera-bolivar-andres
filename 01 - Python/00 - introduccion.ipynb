{
 "cells": [
  {
   "cell_type": "markdown",
   "metadata": {},
   "source": [
    "# Titulo 1\n",
    "###### Titulo 6\n",
    "\n",
    "![alt text](https://github.com/adam-p/markdown-here/raw/master/src/common/images/icon48.png \"Logo Title Text 1\")"
   ]
  },
  {
   "cell_type": "code",
   "execution_count": 1,
   "metadata": {},
   "outputs": [
    {
     "name": "stdout",
     "output_type": "stream",
     "text": [
      "Hola mundo\n"
     ]
    }
   ],
   "source": [
    "print(\"Hola mundo\")"
   ]
  },
  {
   "cell_type": "code",
   "execution_count": 10,
   "metadata": {},
   "outputs": [
    {
     "name": "stdout",
     "output_type": "stream",
     "text": [
      "<class 'int'>\n",
      "<class 'float'>\n",
      "<class 'str'>\n",
      "<class 'str'>\n",
      "<class 'str'>\n",
      "<class 'bool'>\n",
      "<class 'bool'>\n",
      "<class 'NoneType'>\n"
     ]
    }
   ],
   "source": [
    "# No tipado\n",
    "# Variables Primitivas\n",
    "\n",
    "entero = 5\n",
    "decimal = 1.5\n",
    "nombre = \"Bolivar\"\n",
    "segundo_nombre = \"Andres\" #No usar camel case -> segundoNombre\n",
    "apellido = 'Roman'\n",
    "casado = False\n",
    "profesor = True\n",
    "hijos = None #Analogo a NULL\n",
    "\n",
    "print(type(entero)) \n",
    "print(type(decimal))\n",
    "print(type(nombre))\n",
    "print(type(segundo_nombre))\n",
    "print(type(apellido))\n",
    "print(type(casado))\n",
    "print(type(profesor))\n",
    "print(type(hijos))\n"
   ]
  },
  {
   "cell_type": "code",
   "execution_count": 5,
   "metadata": {},
   "outputs": [
    {
     "name": "stdout",
     "output_type": "stream",
     "text": [
      "\n",
      "Aquí se puede escribir una cadena de texto larga\n",
      "\n"
     ]
    }
   ],
   "source": [
    "cadena_de_texto = \"\"\"\n",
    "Aquí se puede escribir una cadena de texto larga\n",
    "\"\"\"\n",
    "print(cadena_de_texto)"
   ]
  },
  {
   "cell_type": "code",
   "execution_count": 11,
   "metadata": {},
   "outputs": [
    {
     "name": "stdout",
     "output_type": "stream",
     "text": [
      "5\n",
      "Bolivar\n"
     ]
    }
   ],
   "source": [
    "print(entero)\n",
    "entero = decimal\n",
    "entero = hijos\n",
    "entero = casado\n",
    "entero = nombre\n",
    "print(entero)"
   ]
  },
  {
   "cell_type": "code",
   "execution_count": 7,
   "metadata": {},
   "outputs": [
    {
     "name": "stdout",
     "output_type": "stream",
     "text": [
      "Truty\n",
      "Falsy\n",
      "Falsy\n",
      "Number Comparison\n",
      "Truty\n",
      "Falsy\n",
      "Truty\n",
      "Tuple Comparison\n",
      "Falsy\n",
      "Truty\n",
      "List Comparison\n",
      "Falsy\n",
      "Truty\n",
      "Dictionary Comparison\n",
      "Falsy\n",
      "Truty\n"
     ]
    }
   ],
   "source": [
    "#Condiciones\n",
    "#Truty - Falsy\n",
    "\n",
    "tuplas = (1,2,3) #Arreglos que no se pueden modificar\n",
    "listas = [4,5,6] #Arreglos que se pueden modificar\n",
    "diccionario = {\n",
    "    \"nombre\": \"Bolivar\"\n",
    "}\n",
    "if('Bolivar'):\n",
    "    print('Truty')\n",
    "else:\n",
    "    print('Falsy')\n",
    "    \n",
    "if(''):\n",
    "    print('Truty')\n",
    "else:\n",
    "    print('Falsy')\n",
    "    \n",
    "\n",
    "nulo = None\n",
    "if(nulo):#Falsy\n",
    "    print('Truty')\n",
    "else:\n",
    "    print('Falsy')\n",
    "    \n",
    "print(\"Number Comparison\")\n",
    "    \n",
    "if(-1):#Truty\n",
    "    print('Truty')\n",
    "else:\n",
    "    print('Falsy')\n",
    "    \n",
    "    \n",
    "if(0):#Falsy\n",
    "    print('Truty')\n",
    "else:\n",
    "    print('Falsy')\n",
    "    \n",
    "\n",
    "if(1):#Truty\n",
    "    print('Truty')\n",
    "else:\n",
    "    print('Falsy')\n",
    "\n",
    "    \n",
    "print(\"Tuple Comparison\")    \n",
    "    \n",
    "if(()):#Truty\n",
    "    print('Truty')\n",
    "else:\n",
    "    print('Falsy')\n",
    "\n",
    "if((1,2,3)):#Truty\n",
    "    print('Truty')\n",
    "else:\n",
    "    print('Falsy')\n",
    "\n",
    "\n",
    "    \n",
    "print(\"List Comparison\")    \n",
    "    \n",
    "if([]):#Truty\n",
    "    print('Truty')\n",
    "else:\n",
    "    print('Falsy')\n",
    "\n",
    "if([1,2,3]):#Truty\n",
    "    print('Truty')\n",
    "else:\n",
    "    print('Falsy')\n",
    "    \n",
    "print(\"Dictionary Comparison\")    \n",
    "    \n",
    "if({}):#Truty\n",
    "    print('Truty')\n",
    "else:\n",
    "    print('Falsy')\n",
    "\n",
    "\n",
    "\n",
    "if({\"nombre\": \"Bolivar\"}):#Truty\n",
    "    print('Truty')\n",
    "else:\n",
    "    print('Falsy')    \n",
    "    "
   ]
  },
  {
   "cell_type": "code",
   "execution_count": 8,
   "metadata": {},
   "outputs": [],
   "source": [
    "arreglo = [1, 2, 3, 4, 5, 6, 7, 8, 9, 10]"
   ]
  },
  {
   "cell_type": "code",
   "execution_count": 34,
   "metadata": {},
   "outputs": [
    {
     "data": {
      "text/plain": [
       "(6, 7, 8, 9)"
      ]
     },
     "execution_count": 34,
     "metadata": {},
     "output_type": "execute_result"
    }
   ],
   "source": [
    "arreglo[0:3] # [0, 3[ intervalo abierto a la derecha\n",
    "arreglo[5:] # Toma el intervalo hasta el final\n",
    "arreglo[:7] # Toma el intervalo desde el inicio\n",
    "arreglo[-10] # Indice negativo empieza desde el final\n",
    "\n",
    "arreglo[3:-2]\n",
    "arreglo[-8:8]\n",
    "arreglo[-4:-1]\n",
    "arreglo[-7:]\n",
    "arreglo[:-3]\n",
    "\n",
    "arreglo[:]\n",
    "\n",
    "\n",
    "arregloTupla = (1, 2, 3, 4, 5, 6, 7, 8, 9, 10)\n",
    "arregloTupla[5:9]"
   ]
  },
  {
   "cell_type": "code",
   "execution_count": 32,
   "metadata": {},
   "outputs": [
    {
     "data": {
      "text/plain": [
       "'Bolivar'"
      ]
     },
     "execution_count": 32,
     "metadata": {},
     "output_type": "execute_result"
    }
   ],
   "source": [
    "diccionario = {\n",
    "    \"nombre\": \"Bolivar\",\n",
    "    \"apellido\" : \"Roman\",\n",
    "    \"sueldo\" : 1.2\n",
    "}\n",
    "\n",
    "diccionario[\"nombre\"]"
   ]
  },
  {
   "cell_type": "code",
   "execution_count": 37,
   "metadata": {},
   "outputs": [
    {
     "data": {
      "text/plain": [
       "10"
      ]
     },
     "execution_count": 37,
     "metadata": {},
     "output_type": "execute_result"
    }
   ],
   "source": [
    "12 in arreglo\n",
    "\n",
    "len(arreglo)"
   ]
  },
  {
   "cell_type": "code",
   "execution_count": 44,
   "metadata": {},
   "outputs": [
    {
     "data": {
      "text/plain": [
       "True"
      ]
     },
     "execution_count": 44,
     "metadata": {},
     "output_type": "execute_result"
    }
   ],
   "source": [
    "\"nombre\" in diccionario"
   ]
  },
  {
   "cell_type": "code",
   "execution_count": 47,
   "metadata": {},
   "outputs": [],
   "source": [
    "#arregloTupla[0] = 2 no se puede modificar la tupla\n",
    "arreglo[0] = 2\n",
    "\n",
    "#arreglo.pop\n",
    "#arreglo.append\n",
    "#arreglo.insert"
   ]
  },
  {
   "cell_type": "code",
   "execution_count": 51,
   "metadata": {},
   "outputs": [
    {
     "name": "stdout",
     "output_type": "stream",
     "text": [
      "1\n",
      "2\n",
      "3\n",
      "4\n",
      "5\n",
      "6\n",
      "7\n",
      "8\n",
      "9\n",
      "10\n"
     ]
    }
   ],
   "source": [
    "for numeroLista in arregloTupla:\n",
    "    print(numeroLista)"
   ]
  },
  {
   "cell_type": "code",
   "execution_count": 53,
   "metadata": {},
   "outputs": [
    {
     "name": "stdout",
     "output_type": "stream",
     "text": [
      "nombre\n",
      "apellido\n",
      "sueldo\n"
     ]
    }
   ],
   "source": [
    "for numeroLista in diccionario:\n",
    "    print(numeroLista)"
   ]
  },
  {
   "cell_type": "code",
   "execution_count": 56,
   "metadata": {},
   "outputs": [
    {
     "name": "stdout",
     "output_type": "stream",
     "text": [
      "0\n",
      "1\n",
      "2\n",
      "3\n",
      "4\n",
      "5\n",
      "6\n",
      "7\n",
      "8\n",
      "9\n"
     ]
    }
   ],
   "source": [
    "contador = 0 \n",
    "while contador < 10:\n",
    "    print(contador)\n",
    "    contador+= 1"
   ]
  },
  {
   "cell_type": "code",
   "execution_count": 57,
   "metadata": {},
   "outputs": [],
   "source": [
    "bolivar = {\n",
    "    True: 'Bolivar',\n",
    "    False: 'Roman',\n",
    "    1: 12.2,\n",
    "    1.1: 89,\n",
    "    'edad': 31,\n",
    "    'mascotas': [{\"nombre\" : 'Morgan'}],\n",
    "    None: None\n",
    "}"
   ]
  },
  {
   "cell_type": "code",
   "execution_count": 59,
   "metadata": {},
   "outputs": [],
   "source": [
    "bolivar['edad'] = 22\n",
    "bolivar['apellido'] = 'Roman'\n",
    "bolivar['mascotas'][0]['nombre'] = 'Nika'"
   ]
  },
  {
   "cell_type": "code",
   "execution_count": 60,
   "metadata": {},
   "outputs": [
    {
     "data": {
      "text/plain": [
       "{True: 12.2,\n",
       " False: 'Roman',\n",
       " 1.1: 89,\n",
       " 'edad': 22,\n",
       " 'mascotas': [{'nombre': 'Nika'}],\n",
       " None: None,\n",
       " 'apellido': 'Roman'}"
      ]
     },
     "execution_count": 60,
     "metadata": {},
     "output_type": "execute_result"
    }
   ],
   "source": [
    "bolivar"
   ]
  },
  {
   "cell_type": "code",
   "execution_count": 65,
   "metadata": {},
   "outputs": [
    {
     "name": "stdout",
     "output_type": "stream",
     "text": [
      "True\n",
      "False\n",
      "1.1\n",
      "edad\n",
      "mascotas\n",
      "None\n",
      "apellido\n"
     ]
    }
   ],
   "source": [
    "bolivar.keys()\n",
    "for key in bolivar.keys():\n",
    "    print(key)"
   ]
  },
  {
   "cell_type": "code",
   "execution_count": 66,
   "metadata": {},
   "outputs": [
    {
     "name": "stdout",
     "output_type": "stream",
     "text": [
      "12.2\n",
      "Roman\n",
      "89\n",
      "22\n",
      "[{'nombre': 'Nika'}]\n",
      "None\n",
      "Roman\n"
     ]
    }
   ],
   "source": [
    "bolivar.values()\n",
    "for value in bolivar.values():\n",
    "    print(value)"
   ]
  },
  {
   "cell_type": "code",
   "execution_count": 69,
   "metadata": {},
   "outputs": [
    {
     "data": {
      "text/plain": [
       "False"
      ]
     },
     "execution_count": 69,
     "metadata": {},
     "output_type": "execute_result"
    }
   ],
   "source": [
    "1 == 1 or 2 == 2\n",
    "1 != 1"
   ]
  },
  {
   "cell_type": "code",
   "execution_count": null,
   "metadata": {},
   "outputs": [],
   "source": []
  }
 ],
 "metadata": {
  "kernelspec": {
   "display_name": "Python 3",
   "language": "python",
   "name": "python3"
  },
  "language_info": {
   "codemirror_mode": {
    "name": "ipython",
    "version": 3
   },
   "file_extension": ".py",
   "mimetype": "text/x-python",
   "name": "python",
   "nbconvert_exporter": "python",
   "pygments_lexer": "ipython3",
   "version": "3.7.6"
  }
 },
 "nbformat": 4,
 "nbformat_minor": 4
}
